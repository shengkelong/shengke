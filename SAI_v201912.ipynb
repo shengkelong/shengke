{
  "nbformat": 4,
  "nbformat_minor": 0,
  "metadata": {
    "colab": {
      "name": "SAI_v201912.ipynb",
      "provenance": [],
      "collapsed_sections": []
    },
    "kernelspec": {
      "name": "python3",
      "display_name": "Python 3"
    },
    "accelerator": "GPU"
  },
  "cells": [
    {
      "cell_type": "markdown",
      "metadata": {
        "id": "tijKn7s4SYs8",
        "colab_type": "text"
      },
      "source": [
        "This notebook shows how to run a **SAI client on Google Colab's NVIDIA Tesla K80 GPU**. Thanks to [djinnome from GitHub who figured it out.](https://github.com/glinscott/leela-chess/issues/284).\n",
        "\n",
        "Updated to work with NVIDIA driver 396.44.\n",
        "\n",
        "Run each cell in order, waiting for the previous one to finish before running the next.\n",
        "\n",
        "The scripts and cell layout may be messy/redundant, but this should work.\n",
        "\n"
      ]
    },
    {
      "cell_type": "code",
      "metadata": {
        "id": "d2vjlytJVcsX",
        "colab_type": "code",
        "colab": {}
      },
      "source": [
        "import subprocess\n",
        "if subprocess.run([\"nvidia-smi\", \"-L\"]).returncode != 0:\n",
        "  assert False, \"No GPU available!\""
      ],
      "execution_count": 0,
      "outputs": []
    },
    {
      "cell_type": "code",
      "metadata": {
        "id": "EQryZ_YTvomn",
        "colab_type": "code",
        "colab": {}
      },
      "source": [
        "!apt-get update\n",
        "!apt-get install -y --fix-missing --no-install-recommends cuda-compiler-10-1 libcublas10 libcublas-dev cuda-cudart-dev-10-1"
      ],
      "execution_count": 0,
      "outputs": []
    },
    {
      "cell_type": "code",
      "metadata": {
        "id": "6olv9DyoULkh",
        "colab_type": "code",
        "colab": {}
      },
      "source": [
        "!wget http://developer.download.nvidia.com/compute/redist/cudnn/v7.6.5/cudnn-10.1-linux-x64-v7.6.5.32.tgz\n",
        "!cd /usr/local && tar -xzvf /content/cudnn-10.1-linux-x64-v7.6.5.32.tgz\n",
        "!chmod a+r /usr/local/cuda/lib64/libcudnn*"
      ],
      "execution_count": 0,
      "outputs": []
    },
    {
      "cell_type": "markdown",
      "metadata": {
        "id": "7qZWYnVhREN_",
        "colab_type": "text"
      },
      "source": [
        "If you get a **\"signal: aborted (core dumped)\" error** when running the client or **\"failed to assign a backend\" popup**, there are no GPUs available on Google Colab. **Try Runtime -> Restart Runtime** and running again, or kill the entire VM with **`!kill -9 -1`** and try again (VM may take 5 minutes to restart after being killed). As Google Colab has a limited number of free GPUs, **you may just have to try again another time**.\n",
        "\n"
      ]
    },
    {
      "cell_type": "code",
      "metadata": {
        "id": "lSlYAMQz5pX5",
        "colab_type": "code",
        "colab": {}
      },
      "source": [
        "#!kill -9 -1"
      ],
      "execution_count": 0,
      "outputs": []
    },
    {
      "cell_type": "code",
      "metadata": {
        "id": "Z24gtCQblWCM",
        "colab_type": "code",
        "colab": {}
      },
      "source": [
        "!apt install cmake g++ libboost-dev libboost-program-options-dev libboost-filesystem-dev opencl-headers ocl-icd-libopencl1 ocl-icd-opencl-dev zlib1g-dev"
      ],
      "execution_count": 0,
      "outputs": []
    },
    {
      "cell_type": "code",
      "metadata": {
        "id": "6U5ysW11-Eqb",
        "colab_type": "code",
        "colab": {}
      },
      "source": [
        "!rm -rf sai\n",
        "!git clone --recursive https://github.com/sai-dev/sai\n",
        "!cd sai && git branch\n",
        "!cd sai && git shortlog"
      ],
      "execution_count": 0,
      "outputs": []
    },
    {
      "cell_type": "code",
      "metadata": {
        "id": "0Flc8kaH-ZTz",
        "colab_type": "code",
        "colab": {}
      },
      "source": [
        "!cd sai && mkdir build\n",
        "!cd sai/build && cmake ..\n",
        "!cd sai/build && cmake --build ."
      ],
      "execution_count": 0,
      "outputs": []
    },
    {
      "cell_type": "code",
      "metadata": {
        "id": "VBnVbdaD-kIr",
        "colab_type": "code",
        "colab": {}
      },
      "source": [
        "#!cd sai/build && chmod +x tests\n",
        "!cd sai/build/&& ./tests"
      ],
      "execution_count": 0,
      "outputs": []
    },
    {
      "cell_type": "code",
      "metadata": {
        "id": "B0nDOU9l_3Lb",
        "colab_type": "code",
        "outputId": "f4852530-4852-4460-eab3-de857ef6542d",
        "colab": {
          "base_uri": "https://localhost:8080/",
          "height": 35
        }
      },
      "source": [
        "!cd sai/build && cp sai autogtp\n",
        "!echo \"done!\""
      ],
      "execution_count": 0,
      "outputs": [
        {
          "output_type": "stream",
          "text": [
            "done!\n"
          ],
          "name": "stdout"
        }
      ]
    },
    {
      "cell_type": "markdown",
      "metadata": {
        "id": "HjJ1Me0SvqfM",
        "colab_type": "text"
      },
      "source": [
        "Until now, SAI has been compiled. Congratulations!\n",
        "Then we can contribute to LZ project by running code blocks below.Please replace $\\$username$ and $\\$passwd$ into yours，-m help you to limit selfplays number.\n",
        "\n",
        "至此，SAI编译完成。恭喜你！然后我们运行下面代码跑谱：请替换 $\\$username$ 和 $\\$passwd$为你的，修改 -m 参数可以设定跑谱数量上限。"
      ]
    },
    {
      "cell_type": "code",
      "metadata": {
        "id": "pcZs3f5eABsL",
        "colab_type": "code",
        "colab": {}
      },
      "source": [
        "!cd sai/build/autogtp/ && ./autogtp --url http://sai.unich.it/ --username $username --password $passwd -m100| grep minute"
      ],
      "execution_count": 0,
      "outputs": []
    }
  ]
}
